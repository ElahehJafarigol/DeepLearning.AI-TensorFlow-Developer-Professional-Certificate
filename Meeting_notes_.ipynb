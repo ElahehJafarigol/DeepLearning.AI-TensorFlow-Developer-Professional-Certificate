{
  "nbformat": 4,
  "nbformat_minor": 0,
  "metadata": {
    "colab": {
      "provenance": [],
      "authorship_tag": "ABX9TyMycgC55hqNo1wbkd8M4wWn",
      "include_colab_link": true
    },
    "kernelspec": {
      "name": "python3",
      "display_name": "Python 3"
    },
    "language_info": {
      "name": "python"
    }
  },
  "cells": [
    {
      "cell_type": "markdown",
      "metadata": {
        "id": "view-in-github",
        "colab_type": "text"
      },
      "source": [
        "<a href=\"https://colab.research.google.com/github/ElahehJafarigol/DeepLearning.AI-TensorFlow-Developer-Professional-Certificate/blob/main/Meeting_notes_.ipynb\" target=\"_parent\"><img src=\"https://colab.research.google.com/assets/colab-badge.svg\" alt=\"Open In Colab\"/></a>"
      ]
    },
    {
      "cell_type": "markdown",
      "source": [
        "### 2.16.2024\n",
        "**key take aways:**\n",
        "\n",
        "1. Train/test split: 70% training, 10% validation and 10% testing with a certain random seed, considering 128 observations\n",
        "2. Modeling: We'll explore 4 methods over the next few weeks\n",
        "*   Behnoud: Tree models\n",
        "*   Azadeh: LSTM\n",
        "*   Elaheh: GRU\n",
        "*   Saeid: Transformers\n",
        "Please provide a brief explanation of each algorithm in the document.\n",
        "3. Metrics: loss (cross entropey), confusion matrix\n",
        "4. Github:\n",
        "*   Atomic\n",
        "*   \n",
        "\n",
        "5. Object-oriented programming\n",
        "*   Include a decription of input, output and arguments for classes and functions\n",
        "*   Coding style:* [Google Python Style Guide](https://google.github.io/styleguide/pyguide.html)\n",
        "*   Write Pythonic\n",
        "*   \n"
      ],
      "metadata": {
        "id": "KHyOA56jPj5g"
      }
    },
    {
      "cell_type": "markdown",
      "source": [],
      "metadata": {
        "id": "WmCswwX0W81M"
      }
    }
  ]
}