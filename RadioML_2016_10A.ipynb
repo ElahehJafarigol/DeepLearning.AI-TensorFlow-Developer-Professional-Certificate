{
  "nbformat": 4,
  "nbformat_minor": 0,
  "metadata": {
    "colab": {
      "provenance": [],
      "mount_file_id": "1FVKy5ooLrpC04_gK-0wijD2WuKRmo6c1",
      "authorship_tag": "ABX9TyPGyjGk2s5KHcT938rKBwbF",
      "include_colab_link": true
    },
    "kernelspec": {
      "name": "python3",
      "display_name": "Python 3"
    },
    "language_info": {
      "name": "python"
    }
  },
  "cells": [
    {
      "cell_type": "markdown",
      "metadata": {
        "id": "view-in-github",
        "colab_type": "text"
      },
      "source": [
        "<a href=\"https://colab.research.google.com/github/ElahehJafarigol/DeepLearning.AI-TensorFlow-Developer-Professional-Certificate/blob/main/RadioML_2016_10A.ipynb\" target=\"_parent\"><img src=\"https://colab.research.google.com/assets/colab-badge.svg\" alt=\"Open In Colab\"/></a>"
      ]
    },
    {
      "cell_type": "markdown",
      "source": [
        "# Automatic Modulation Classification\n",
        "\n",
        "**MaxWav LLc**\n",
        "\n",
        "Spring 2024"
      ],
      "metadata": {
        "id": "zl0Yzjq1-GNk"
      }
    },
    {
      "cell_type": "markdown",
      "source": [
        "In this notebook we will explore some deep learning models to classify data based on their modulation type.\n",
        "\n",
        "**Dataset:** RadioML 2026.10A\n",
        "\n",
        "**Contributors:** Elaheh Jafarigol, Saeid Hosseinipour\n",
        "\n",
        "**Reference paper:** ?\n",
        "\n",
        "**External code resources:**\n",
        "\n"
      ],
      "metadata": {
        "id": "s3Mvlvm5-YAw"
      }
    },
    {
      "cell_type": "markdown",
      "source": [
        "###Imports"
      ],
      "metadata": {
        "id": "ecLKvG5RFaSa"
      }
    },
    {
      "cell_type": "code",
      "source": [
        "import os\n",
        "import numpy as np\n",
        "import pandas as pd\n",
        "import matplotlib.pyplot as plt\n",
        "import pickle\n",
        "import seaborn\n",
        "import random\n",
        "import tensorflow as tf\n",
        "\n",
        "from sklearn.model_selection import train_test_split\n",
        "\n",
        "from keras import models, layers, metrics\n",
        "from keras.models import Sequential\n",
        "from keras.layers import Input, Reshape, Dense, Flatten , Activation\n",
        "from keras.layers import Conv2D, MaxPooling2D\n",
        "from keras.layers import BatchNormalization, Dropout\n",
        "from keras.layers import GaussianNoise\n",
        "\n",
        "from keras.optimizers import SGD, Adam\n",
        "\n",
        "\n",
        "np.random.seed(42)"
      ],
      "metadata": {
        "id": "qFfA3U1tIToi"
      },
      "execution_count": null,
      "outputs": []
    },
    {
      "cell_type": "markdown",
      "source": [
        "###Utility Functions"
      ],
      "metadata": {
        "id": "m-d2WeCf93y3"
      }
    },
    {
      "cell_type": "code",
      "source": [
        "def load_dataset(path):\n",
        "    with open(path, \"rb\") as f: # Open the file in binary read mode\n",
        "        data_dict = pickle.load(f, encoding=\"bytes\")\n",
        "\n",
        "        if data_dict is None:\n",
        "            raise ValueError(\"Loading data failed.\")\n",
        "            return\n",
        "\n",
        "        print(\"Number of samples:\", len(data_dict))\n",
        "        column_names = list(data_dict.keys())\n",
        "\n",
        "        # Sample data type of first column, first sample\n",
        "        first_sample = data_dict[column_names[0]][0]\n",
        "\n",
        "        # Print the data type of the first sample\n",
        "        print(\"Data type of the first sample:\", type(first_sample))\n",
        "\n",
        "        return data_dict\n",
        "\n",
        "path = \"/content/drive/MyDrive/Colab Notebooks/DeepSig/RML2016.10a_dict.pkl\"\n",
        "data = load_dataset(path)"
      ],
      "metadata": {
        "colab": {
          "base_uri": "https://localhost:8080/"
        },
        "id": "qlRfL16LoV4X",
        "outputId": "1800a7a6-8d01-45c7-becd-e8b6fba4b792"
      },
      "execution_count": null,
      "outputs": [
        {
          "output_type": "stream",
          "name": "stdout",
          "text": [
            "Number of samples: 220\n",
            "Data type of the first sample: <class 'numpy.ndarray'>\n"
          ]
        }
      ]
    },
    {
      "cell_type": "code",
      "source": [
        "def print_data_shape(data, mod, snr):\n",
        "    \"\"\"\n",
        "    Prints the shape of the data for a given modulation and SNR.\n",
        "\n",
        "    Args:\n",
        "        data: A dictionary containing the data.\n",
        "        mod: The modulation type.\n",
        "        snr: The signal-to-noise ratio.\n",
        "    \"\"\"\n",
        "    print(f'Modulation type: {mod}, SNR: {snr}, Sample: {data[(mod, snr)].shape[0]}, Shape {data[(mod, snr)].shape}')\n",
        "\n",
        "def explore_data(data_dict):\n",
        "\n",
        "    # Check if the data is loaded\n",
        "    if dict is None:\n",
        "        raise ValueError(\"Load the data first suing load_data()\")\n",
        "\n",
        "    for key in sorted(data_dict.keys()):\n",
        "        try:\n",
        "            print_data_shape(data_dict, key[0], key[1])\n",
        "        except KeyError:\n",
        "            print(f\"Key: {key}, Error: Key does not exist\")\n",
        "    \"\"\"\n",
        "    The letter b before b'mod' indicates that the string is a byte string.\n",
        "    \"\"\"\n",
        "    return\n",
        "\n",
        "explore_data(data)"
      ],
      "metadata": {
        "colab": {
          "base_uri": "https://localhost:8080/"
        },
        "id": "9yDKmBNoqcsS",
        "outputId": "b0832106-617d-4452-d61a-c79d2a8caca3"
      },
      "execution_count": null,
      "outputs": [
        {
          "output_type": "stream",
          "name": "stdout",
          "text": [
            "Modulation type: b'8PSK', SNR: -20, Sample: 1000, Shape (1000, 2, 128)\n",
            "Modulation type: b'8PSK', SNR: -18, Sample: 1000, Shape (1000, 2, 128)\n",
            "Modulation type: b'8PSK', SNR: -16, Sample: 1000, Shape (1000, 2, 128)\n",
            "Modulation type: b'8PSK', SNR: -14, Sample: 1000, Shape (1000, 2, 128)\n",
            "Modulation type: b'8PSK', SNR: -12, Sample: 1000, Shape (1000, 2, 128)\n",
            "Modulation type: b'8PSK', SNR: -10, Sample: 1000, Shape (1000, 2, 128)\n",
            "Modulation type: b'8PSK', SNR: -8, Sample: 1000, Shape (1000, 2, 128)\n",
            "Modulation type: b'8PSK', SNR: -6, Sample: 1000, Shape (1000, 2, 128)\n",
            "Modulation type: b'8PSK', SNR: -4, Sample: 1000, Shape (1000, 2, 128)\n",
            "Modulation type: b'8PSK', SNR: -2, Sample: 1000, Shape (1000, 2, 128)\n",
            "Modulation type: b'8PSK', SNR: 0, Sample: 1000, Shape (1000, 2, 128)\n",
            "Modulation type: b'8PSK', SNR: 2, Sample: 1000, Shape (1000, 2, 128)\n",
            "Modulation type: b'8PSK', SNR: 4, Sample: 1000, Shape (1000, 2, 128)\n",
            "Modulation type: b'8PSK', SNR: 6, Sample: 1000, Shape (1000, 2, 128)\n",
            "Modulation type: b'8PSK', SNR: 8, Sample: 1000, Shape (1000, 2, 128)\n",
            "Modulation type: b'8PSK', SNR: 10, Sample: 1000, Shape (1000, 2, 128)\n",
            "Modulation type: b'8PSK', SNR: 12, Sample: 1000, Shape (1000, 2, 128)\n",
            "Modulation type: b'8PSK', SNR: 14, Sample: 1000, Shape (1000, 2, 128)\n",
            "Modulation type: b'8PSK', SNR: 16, Sample: 1000, Shape (1000, 2, 128)\n",
            "Modulation type: b'8PSK', SNR: 18, Sample: 1000, Shape (1000, 2, 128)\n",
            "Modulation type: b'AM-DSB', SNR: -20, Sample: 1000, Shape (1000, 2, 128)\n",
            "Modulation type: b'AM-DSB', SNR: -18, Sample: 1000, Shape (1000, 2, 128)\n",
            "Modulation type: b'AM-DSB', SNR: -16, Sample: 1000, Shape (1000, 2, 128)\n",
            "Modulation type: b'AM-DSB', SNR: -14, Sample: 1000, Shape (1000, 2, 128)\n",
            "Modulation type: b'AM-DSB', SNR: -12, Sample: 1000, Shape (1000, 2, 128)\n",
            "Modulation type: b'AM-DSB', SNR: -10, Sample: 1000, Shape (1000, 2, 128)\n",
            "Modulation type: b'AM-DSB', SNR: -8, Sample: 1000, Shape (1000, 2, 128)\n",
            "Modulation type: b'AM-DSB', SNR: -6, Sample: 1000, Shape (1000, 2, 128)\n",
            "Modulation type: b'AM-DSB', SNR: -4, Sample: 1000, Shape (1000, 2, 128)\n",
            "Modulation type: b'AM-DSB', SNR: -2, Sample: 1000, Shape (1000, 2, 128)\n",
            "Modulation type: b'AM-DSB', SNR: 0, Sample: 1000, Shape (1000, 2, 128)\n",
            "Modulation type: b'AM-DSB', SNR: 2, Sample: 1000, Shape (1000, 2, 128)\n",
            "Modulation type: b'AM-DSB', SNR: 4, Sample: 1000, Shape (1000, 2, 128)\n",
            "Modulation type: b'AM-DSB', SNR: 6, Sample: 1000, Shape (1000, 2, 128)\n",
            "Modulation type: b'AM-DSB', SNR: 8, Sample: 1000, Shape (1000, 2, 128)\n",
            "Modulation type: b'AM-DSB', SNR: 10, Sample: 1000, Shape (1000, 2, 128)\n",
            "Modulation type: b'AM-DSB', SNR: 12, Sample: 1000, Shape (1000, 2, 128)\n",
            "Modulation type: b'AM-DSB', SNR: 14, Sample: 1000, Shape (1000, 2, 128)\n",
            "Modulation type: b'AM-DSB', SNR: 16, Sample: 1000, Shape (1000, 2, 128)\n",
            "Modulation type: b'AM-DSB', SNR: 18, Sample: 1000, Shape (1000, 2, 128)\n",
            "Modulation type: b'AM-SSB', SNR: -20, Sample: 1000, Shape (1000, 2, 128)\n",
            "Modulation type: b'AM-SSB', SNR: -18, Sample: 1000, Shape (1000, 2, 128)\n",
            "Modulation type: b'AM-SSB', SNR: -16, Sample: 1000, Shape (1000, 2, 128)\n",
            "Modulation type: b'AM-SSB', SNR: -14, Sample: 1000, Shape (1000, 2, 128)\n",
            "Modulation type: b'AM-SSB', SNR: -12, Sample: 1000, Shape (1000, 2, 128)\n",
            "Modulation type: b'AM-SSB', SNR: -10, Sample: 1000, Shape (1000, 2, 128)\n",
            "Modulation type: b'AM-SSB', SNR: -8, Sample: 1000, Shape (1000, 2, 128)\n",
            "Modulation type: b'AM-SSB', SNR: -6, Sample: 1000, Shape (1000, 2, 128)\n",
            "Modulation type: b'AM-SSB', SNR: -4, Sample: 1000, Shape (1000, 2, 128)\n",
            "Modulation type: b'AM-SSB', SNR: -2, Sample: 1000, Shape (1000, 2, 128)\n",
            "Modulation type: b'AM-SSB', SNR: 0, Sample: 1000, Shape (1000, 2, 128)\n",
            "Modulation type: b'AM-SSB', SNR: 2, Sample: 1000, Shape (1000, 2, 128)\n",
            "Modulation type: b'AM-SSB', SNR: 4, Sample: 1000, Shape (1000, 2, 128)\n",
            "Modulation type: b'AM-SSB', SNR: 6, Sample: 1000, Shape (1000, 2, 128)\n",
            "Modulation type: b'AM-SSB', SNR: 8, Sample: 1000, Shape (1000, 2, 128)\n",
            "Modulation type: b'AM-SSB', SNR: 10, Sample: 1000, Shape (1000, 2, 128)\n",
            "Modulation type: b'AM-SSB', SNR: 12, Sample: 1000, Shape (1000, 2, 128)\n",
            "Modulation type: b'AM-SSB', SNR: 14, Sample: 1000, Shape (1000, 2, 128)\n",
            "Modulation type: b'AM-SSB', SNR: 16, Sample: 1000, Shape (1000, 2, 128)\n",
            "Modulation type: b'AM-SSB', SNR: 18, Sample: 1000, Shape (1000, 2, 128)\n",
            "Modulation type: b'BPSK', SNR: -20, Sample: 1000, Shape (1000, 2, 128)\n",
            "Modulation type: b'BPSK', SNR: -18, Sample: 1000, Shape (1000, 2, 128)\n",
            "Modulation type: b'BPSK', SNR: -16, Sample: 1000, Shape (1000, 2, 128)\n",
            "Modulation type: b'BPSK', SNR: -14, Sample: 1000, Shape (1000, 2, 128)\n",
            "Modulation type: b'BPSK', SNR: -12, Sample: 1000, Shape (1000, 2, 128)\n",
            "Modulation type: b'BPSK', SNR: -10, Sample: 1000, Shape (1000, 2, 128)\n",
            "Modulation type: b'BPSK', SNR: -8, Sample: 1000, Shape (1000, 2, 128)\n",
            "Modulation type: b'BPSK', SNR: -6, Sample: 1000, Shape (1000, 2, 128)\n",
            "Modulation type: b'BPSK', SNR: -4, Sample: 1000, Shape (1000, 2, 128)\n",
            "Modulation type: b'BPSK', SNR: -2, Sample: 1000, Shape (1000, 2, 128)\n",
            "Modulation type: b'BPSK', SNR: 0, Sample: 1000, Shape (1000, 2, 128)\n",
            "Modulation type: b'BPSK', SNR: 2, Sample: 1000, Shape (1000, 2, 128)\n",
            "Modulation type: b'BPSK', SNR: 4, Sample: 1000, Shape (1000, 2, 128)\n",
            "Modulation type: b'BPSK', SNR: 6, Sample: 1000, Shape (1000, 2, 128)\n",
            "Modulation type: b'BPSK', SNR: 8, Sample: 1000, Shape (1000, 2, 128)\n",
            "Modulation type: b'BPSK', SNR: 10, Sample: 1000, Shape (1000, 2, 128)\n",
            "Modulation type: b'BPSK', SNR: 12, Sample: 1000, Shape (1000, 2, 128)\n",
            "Modulation type: b'BPSK', SNR: 14, Sample: 1000, Shape (1000, 2, 128)\n",
            "Modulation type: b'BPSK', SNR: 16, Sample: 1000, Shape (1000, 2, 128)\n",
            "Modulation type: b'BPSK', SNR: 18, Sample: 1000, Shape (1000, 2, 128)\n",
            "Modulation type: b'CPFSK', SNR: -20, Sample: 1000, Shape (1000, 2, 128)\n",
            "Modulation type: b'CPFSK', SNR: -18, Sample: 1000, Shape (1000, 2, 128)\n",
            "Modulation type: b'CPFSK', SNR: -16, Sample: 1000, Shape (1000, 2, 128)\n",
            "Modulation type: b'CPFSK', SNR: -14, Sample: 1000, Shape (1000, 2, 128)\n",
            "Modulation type: b'CPFSK', SNR: -12, Sample: 1000, Shape (1000, 2, 128)\n",
            "Modulation type: b'CPFSK', SNR: -10, Sample: 1000, Shape (1000, 2, 128)\n",
            "Modulation type: b'CPFSK', SNR: -8, Sample: 1000, Shape (1000, 2, 128)\n",
            "Modulation type: b'CPFSK', SNR: -6, Sample: 1000, Shape (1000, 2, 128)\n",
            "Modulation type: b'CPFSK', SNR: -4, Sample: 1000, Shape (1000, 2, 128)\n",
            "Modulation type: b'CPFSK', SNR: -2, Sample: 1000, Shape (1000, 2, 128)\n",
            "Modulation type: b'CPFSK', SNR: 0, Sample: 1000, Shape (1000, 2, 128)\n",
            "Modulation type: b'CPFSK', SNR: 2, Sample: 1000, Shape (1000, 2, 128)\n",
            "Modulation type: b'CPFSK', SNR: 4, Sample: 1000, Shape (1000, 2, 128)\n",
            "Modulation type: b'CPFSK', SNR: 6, Sample: 1000, Shape (1000, 2, 128)\n",
            "Modulation type: b'CPFSK', SNR: 8, Sample: 1000, Shape (1000, 2, 128)\n",
            "Modulation type: b'CPFSK', SNR: 10, Sample: 1000, Shape (1000, 2, 128)\n",
            "Modulation type: b'CPFSK', SNR: 12, Sample: 1000, Shape (1000, 2, 128)\n",
            "Modulation type: b'CPFSK', SNR: 14, Sample: 1000, Shape (1000, 2, 128)\n",
            "Modulation type: b'CPFSK', SNR: 16, Sample: 1000, Shape (1000, 2, 128)\n",
            "Modulation type: b'CPFSK', SNR: 18, Sample: 1000, Shape (1000, 2, 128)\n",
            "Modulation type: b'GFSK', SNR: -20, Sample: 1000, Shape (1000, 2, 128)\n",
            "Modulation type: b'GFSK', SNR: -18, Sample: 1000, Shape (1000, 2, 128)\n",
            "Modulation type: b'GFSK', SNR: -16, Sample: 1000, Shape (1000, 2, 128)\n",
            "Modulation type: b'GFSK', SNR: -14, Sample: 1000, Shape (1000, 2, 128)\n",
            "Modulation type: b'GFSK', SNR: -12, Sample: 1000, Shape (1000, 2, 128)\n",
            "Modulation type: b'GFSK', SNR: -10, Sample: 1000, Shape (1000, 2, 128)\n",
            "Modulation type: b'GFSK', SNR: -8, Sample: 1000, Shape (1000, 2, 128)\n",
            "Modulation type: b'GFSK', SNR: -6, Sample: 1000, Shape (1000, 2, 128)\n",
            "Modulation type: b'GFSK', SNR: -4, Sample: 1000, Shape (1000, 2, 128)\n",
            "Modulation type: b'GFSK', SNR: -2, Sample: 1000, Shape (1000, 2, 128)\n",
            "Modulation type: b'GFSK', SNR: 0, Sample: 1000, Shape (1000, 2, 128)\n",
            "Modulation type: b'GFSK', SNR: 2, Sample: 1000, Shape (1000, 2, 128)\n",
            "Modulation type: b'GFSK', SNR: 4, Sample: 1000, Shape (1000, 2, 128)\n",
            "Modulation type: b'GFSK', SNR: 6, Sample: 1000, Shape (1000, 2, 128)\n",
            "Modulation type: b'GFSK', SNR: 8, Sample: 1000, Shape (1000, 2, 128)\n",
            "Modulation type: b'GFSK', SNR: 10, Sample: 1000, Shape (1000, 2, 128)\n",
            "Modulation type: b'GFSK', SNR: 12, Sample: 1000, Shape (1000, 2, 128)\n",
            "Modulation type: b'GFSK', SNR: 14, Sample: 1000, Shape (1000, 2, 128)\n",
            "Modulation type: b'GFSK', SNR: 16, Sample: 1000, Shape (1000, 2, 128)\n",
            "Modulation type: b'GFSK', SNR: 18, Sample: 1000, Shape (1000, 2, 128)\n",
            "Modulation type: b'PAM4', SNR: -20, Sample: 1000, Shape (1000, 2, 128)\n",
            "Modulation type: b'PAM4', SNR: -18, Sample: 1000, Shape (1000, 2, 128)\n",
            "Modulation type: b'PAM4', SNR: -16, Sample: 1000, Shape (1000, 2, 128)\n",
            "Modulation type: b'PAM4', SNR: -14, Sample: 1000, Shape (1000, 2, 128)\n",
            "Modulation type: b'PAM4', SNR: -12, Sample: 1000, Shape (1000, 2, 128)\n",
            "Modulation type: b'PAM4', SNR: -10, Sample: 1000, Shape (1000, 2, 128)\n",
            "Modulation type: b'PAM4', SNR: -8, Sample: 1000, Shape (1000, 2, 128)\n",
            "Modulation type: b'PAM4', SNR: -6, Sample: 1000, Shape (1000, 2, 128)\n",
            "Modulation type: b'PAM4', SNR: -4, Sample: 1000, Shape (1000, 2, 128)\n",
            "Modulation type: b'PAM4', SNR: -2, Sample: 1000, Shape (1000, 2, 128)\n",
            "Modulation type: b'PAM4', SNR: 0, Sample: 1000, Shape (1000, 2, 128)\n",
            "Modulation type: b'PAM4', SNR: 2, Sample: 1000, Shape (1000, 2, 128)\n",
            "Modulation type: b'PAM4', SNR: 4, Sample: 1000, Shape (1000, 2, 128)\n",
            "Modulation type: b'PAM4', SNR: 6, Sample: 1000, Shape (1000, 2, 128)\n",
            "Modulation type: b'PAM4', SNR: 8, Sample: 1000, Shape (1000, 2, 128)\n",
            "Modulation type: b'PAM4', SNR: 10, Sample: 1000, Shape (1000, 2, 128)\n",
            "Modulation type: b'PAM4', SNR: 12, Sample: 1000, Shape (1000, 2, 128)\n",
            "Modulation type: b'PAM4', SNR: 14, Sample: 1000, Shape (1000, 2, 128)\n",
            "Modulation type: b'PAM4', SNR: 16, Sample: 1000, Shape (1000, 2, 128)\n",
            "Modulation type: b'PAM4', SNR: 18, Sample: 1000, Shape (1000, 2, 128)\n",
            "Modulation type: b'QAM16', SNR: -20, Sample: 1000, Shape (1000, 2, 128)\n",
            "Modulation type: b'QAM16', SNR: -18, Sample: 1000, Shape (1000, 2, 128)\n",
            "Modulation type: b'QAM16', SNR: -16, Sample: 1000, Shape (1000, 2, 128)\n",
            "Modulation type: b'QAM16', SNR: -14, Sample: 1000, Shape (1000, 2, 128)\n",
            "Modulation type: b'QAM16', SNR: -12, Sample: 1000, Shape (1000, 2, 128)\n",
            "Modulation type: b'QAM16', SNR: -10, Sample: 1000, Shape (1000, 2, 128)\n",
            "Modulation type: b'QAM16', SNR: -8, Sample: 1000, Shape (1000, 2, 128)\n",
            "Modulation type: b'QAM16', SNR: -6, Sample: 1000, Shape (1000, 2, 128)\n",
            "Modulation type: b'QAM16', SNR: -4, Sample: 1000, Shape (1000, 2, 128)\n",
            "Modulation type: b'QAM16', SNR: -2, Sample: 1000, Shape (1000, 2, 128)\n",
            "Modulation type: b'QAM16', SNR: 0, Sample: 1000, Shape (1000, 2, 128)\n",
            "Modulation type: b'QAM16', SNR: 2, Sample: 1000, Shape (1000, 2, 128)\n",
            "Modulation type: b'QAM16', SNR: 4, Sample: 1000, Shape (1000, 2, 128)\n",
            "Modulation type: b'QAM16', SNR: 6, Sample: 1000, Shape (1000, 2, 128)\n",
            "Modulation type: b'QAM16', SNR: 8, Sample: 1000, Shape (1000, 2, 128)\n",
            "Modulation type: b'QAM16', SNR: 10, Sample: 1000, Shape (1000, 2, 128)\n",
            "Modulation type: b'QAM16', SNR: 12, Sample: 1000, Shape (1000, 2, 128)\n",
            "Modulation type: b'QAM16', SNR: 14, Sample: 1000, Shape (1000, 2, 128)\n",
            "Modulation type: b'QAM16', SNR: 16, Sample: 1000, Shape (1000, 2, 128)\n",
            "Modulation type: b'QAM16', SNR: 18, Sample: 1000, Shape (1000, 2, 128)\n",
            "Modulation type: b'QAM64', SNR: -20, Sample: 1000, Shape (1000, 2, 128)\n",
            "Modulation type: b'QAM64', SNR: -18, Sample: 1000, Shape (1000, 2, 128)\n",
            "Modulation type: b'QAM64', SNR: -16, Sample: 1000, Shape (1000, 2, 128)\n",
            "Modulation type: b'QAM64', SNR: -14, Sample: 1000, Shape (1000, 2, 128)\n",
            "Modulation type: b'QAM64', SNR: -12, Sample: 1000, Shape (1000, 2, 128)\n",
            "Modulation type: b'QAM64', SNR: -10, Sample: 1000, Shape (1000, 2, 128)\n",
            "Modulation type: b'QAM64', SNR: -8, Sample: 1000, Shape (1000, 2, 128)\n",
            "Modulation type: b'QAM64', SNR: -6, Sample: 1000, Shape (1000, 2, 128)\n",
            "Modulation type: b'QAM64', SNR: -4, Sample: 1000, Shape (1000, 2, 128)\n",
            "Modulation type: b'QAM64', SNR: -2, Sample: 1000, Shape (1000, 2, 128)\n",
            "Modulation type: b'QAM64', SNR: 0, Sample: 1000, Shape (1000, 2, 128)\n",
            "Modulation type: b'QAM64', SNR: 2, Sample: 1000, Shape (1000, 2, 128)\n",
            "Modulation type: b'QAM64', SNR: 4, Sample: 1000, Shape (1000, 2, 128)\n",
            "Modulation type: b'QAM64', SNR: 6, Sample: 1000, Shape (1000, 2, 128)\n",
            "Modulation type: b'QAM64', SNR: 8, Sample: 1000, Shape (1000, 2, 128)\n",
            "Modulation type: b'QAM64', SNR: 10, Sample: 1000, Shape (1000, 2, 128)\n",
            "Modulation type: b'QAM64', SNR: 12, Sample: 1000, Shape (1000, 2, 128)\n",
            "Modulation type: b'QAM64', SNR: 14, Sample: 1000, Shape (1000, 2, 128)\n",
            "Modulation type: b'QAM64', SNR: 16, Sample: 1000, Shape (1000, 2, 128)\n",
            "Modulation type: b'QAM64', SNR: 18, Sample: 1000, Shape (1000, 2, 128)\n",
            "Modulation type: b'QPSK', SNR: -20, Sample: 1000, Shape (1000, 2, 128)\n",
            "Modulation type: b'QPSK', SNR: -18, Sample: 1000, Shape (1000, 2, 128)\n",
            "Modulation type: b'QPSK', SNR: -16, Sample: 1000, Shape (1000, 2, 128)\n",
            "Modulation type: b'QPSK', SNR: -14, Sample: 1000, Shape (1000, 2, 128)\n",
            "Modulation type: b'QPSK', SNR: -12, Sample: 1000, Shape (1000, 2, 128)\n",
            "Modulation type: b'QPSK', SNR: -10, Sample: 1000, Shape (1000, 2, 128)\n",
            "Modulation type: b'QPSK', SNR: -8, Sample: 1000, Shape (1000, 2, 128)\n",
            "Modulation type: b'QPSK', SNR: -6, Sample: 1000, Shape (1000, 2, 128)\n",
            "Modulation type: b'QPSK', SNR: -4, Sample: 1000, Shape (1000, 2, 128)\n",
            "Modulation type: b'QPSK', SNR: -2, Sample: 1000, Shape (1000, 2, 128)\n",
            "Modulation type: b'QPSK', SNR: 0, Sample: 1000, Shape (1000, 2, 128)\n",
            "Modulation type: b'QPSK', SNR: 2, Sample: 1000, Shape (1000, 2, 128)\n",
            "Modulation type: b'QPSK', SNR: 4, Sample: 1000, Shape (1000, 2, 128)\n",
            "Modulation type: b'QPSK', SNR: 6, Sample: 1000, Shape (1000, 2, 128)\n",
            "Modulation type: b'QPSK', SNR: 8, Sample: 1000, Shape (1000, 2, 128)\n",
            "Modulation type: b'QPSK', SNR: 10, Sample: 1000, Shape (1000, 2, 128)\n",
            "Modulation type: b'QPSK', SNR: 12, Sample: 1000, Shape (1000, 2, 128)\n",
            "Modulation type: b'QPSK', SNR: 14, Sample: 1000, Shape (1000, 2, 128)\n",
            "Modulation type: b'QPSK', SNR: 16, Sample: 1000, Shape (1000, 2, 128)\n",
            "Modulation type: b'QPSK', SNR: 18, Sample: 1000, Shape (1000, 2, 128)\n",
            "Modulation type: b'WBFM', SNR: -20, Sample: 1000, Shape (1000, 2, 128)\n",
            "Modulation type: b'WBFM', SNR: -18, Sample: 1000, Shape (1000, 2, 128)\n",
            "Modulation type: b'WBFM', SNR: -16, Sample: 1000, Shape (1000, 2, 128)\n",
            "Modulation type: b'WBFM', SNR: -14, Sample: 1000, Shape (1000, 2, 128)\n",
            "Modulation type: b'WBFM', SNR: -12, Sample: 1000, Shape (1000, 2, 128)\n",
            "Modulation type: b'WBFM', SNR: -10, Sample: 1000, Shape (1000, 2, 128)\n",
            "Modulation type: b'WBFM', SNR: -8, Sample: 1000, Shape (1000, 2, 128)\n",
            "Modulation type: b'WBFM', SNR: -6, Sample: 1000, Shape (1000, 2, 128)\n",
            "Modulation type: b'WBFM', SNR: -4, Sample: 1000, Shape (1000, 2, 128)\n",
            "Modulation type: b'WBFM', SNR: -2, Sample: 1000, Shape (1000, 2, 128)\n",
            "Modulation type: b'WBFM', SNR: 0, Sample: 1000, Shape (1000, 2, 128)\n",
            "Modulation type: b'WBFM', SNR: 2, Sample: 1000, Shape (1000, 2, 128)\n",
            "Modulation type: b'WBFM', SNR: 4, Sample: 1000, Shape (1000, 2, 128)\n",
            "Modulation type: b'WBFM', SNR: 6, Sample: 1000, Shape (1000, 2, 128)\n",
            "Modulation type: b'WBFM', SNR: 8, Sample: 1000, Shape (1000, 2, 128)\n",
            "Modulation type: b'WBFM', SNR: 10, Sample: 1000, Shape (1000, 2, 128)\n",
            "Modulation type: b'WBFM', SNR: 12, Sample: 1000, Shape (1000, 2, 128)\n",
            "Modulation type: b'WBFM', SNR: 14, Sample: 1000, Shape (1000, 2, 128)\n",
            "Modulation type: b'WBFM', SNR: 16, Sample: 1000, Shape (1000, 2, 128)\n",
            "Modulation type: b'WBFM', SNR: 18, Sample: 1000, Shape (1000, 2, 128)\n"
          ]
        }
      ]
    },
    {
      "cell_type": "code",
      "source": [
        "mod_list = set()\n",
        "for mod, key in data.keys():\n",
        "    mod_list.add(mod)\n",
        "print (\"Number of classes:\", len(mod_list))"
      ],
      "metadata": {
        "colab": {
          "base_uri": "https://localhost:8080/"
        },
        "id": "URonrHxqk-8h",
        "outputId": "1e94e6e3-2659-4e3b-b126-96d11e027273"
      },
      "execution_count": null,
      "outputs": [
        {
          "output_type": "stream",
          "name": "stdout",
          "text": [
            "Number of classes: 11\n"
          ]
        }
      ]
    },
    {
      "cell_type": "markdown",
      "source": [
        "### Data Preprocessing"
      ],
      "metadata": {
        "id": "6nX85AKjNIwS"
      }
    },
    {
      "cell_type": "markdown",
      "source": [
        "#### Features and Lables"
      ],
      "metadata": {
        "id": "kTnjSnfoH-y5"
      }
    },
    {
      "cell_type": "code",
      "source": [
        "def data_preprocess(data_dict):\n",
        "    \"\"\"\n",
        "    Saves the data is feature and label lists\n",
        "    \"\"\"\n",
        "    feature = []\n",
        "    label = []\n",
        "\n",
        "    for key in sorted(data_dict.keys()):\n",
        "        feature.append(data[(key[0], key[1])])\n",
        "        for i in range(data[key[0], key[1]].shape[0]):\n",
        "            label.append((key[0], key[1]))\n",
        "    feature = np.vstack(feature)\n",
        "\n",
        "    return feature, label\n",
        "\n",
        "X, y = data_preprocess(data)"
      ],
      "metadata": {
        "id": "3_tzJ1cdNGlG"
      },
      "execution_count": null,
      "outputs": []
    },
    {
      "cell_type": "markdown",
      "source": [
        "**Question: What other preprocessing steps do we want to include?**"
      ],
      "metadata": {
        "id": "frJ2wV5sw7OR"
      }
    },
    {
      "cell_type": "markdown",
      "source": [
        "#### Train/Test Split\n",
        "**Question**\n",
        "\n",
        "How do we want to split the data?\n",
        "\n",
        "How about time series methods?"
      ],
      "metadata": {
        "id": "hi3kljwRwf90"
      }
    },
    {
      "cell_type": "code",
      "source": [
        "def data_split(X_data, y_data):\n",
        "    \"\"\"\n",
        "    Split plit to train/test samples\n",
        "    \"\"\"\n",
        "    X_train, X_test, y_train, y_test = train_test_split(X_data, y_data, test_size=0.2, random_state=42)\n",
        "    print('Number of training examples: ',len(X_train))\n",
        "    print('Number of testing examples: ',len(X_test))\n",
        "    return X_train, X_test, y_train, y_test\n",
        "\n",
        "X_train, X_test, y_train, y_test = data_split(X, y)"
      ],
      "metadata": {
        "colab": {
          "base_uri": "https://localhost:8080/"
        },
        "id": "q8ypDsfhQHxN",
        "outputId": "706219ff-7d7d-4dcb-8043-9d2aa9c81837"
      },
      "execution_count": null,
      "outputs": [
        {
          "output_type": "stream",
          "name": "stdout",
          "text": [
            "Number of training examples:  176000\n",
            "Number of testing examples:  44000\n"
          ]
        }
      ]
    },
    {
      "cell_type": "markdown",
      "source": [
        "**Task**\n",
        "1. reshape the data"
      ],
      "metadata": {
        "id": "5hFQuTCBwlIs"
      }
    },
    {
      "cell_type": "code",
      "source": [
        "print(X_train.shape)\n",
        "print(X_train.shape[1:])\n"
      ],
      "metadata": {
        "colab": {
          "base_uri": "https://localhost:8080/"
        },
        "id": "nkYmAFBDoKeS",
        "outputId": "d680c6a5-5232-4d29-9b68-69da8b5df6ec"
      },
      "execution_count": null,
      "outputs": [
        {
          "output_type": "stream",
          "name": "stdout",
          "text": [
            "(176000, 2, 128)\n",
            "(2, 128)\n"
          ]
        }
      ]
    },
    {
      "cell_type": "markdown",
      "source": [
        "### Build the Model"
      ],
      "metadata": {
        "id": "E4Jkm4ApaUcN"
      }
    },
    {
      "cell_type": "markdown",
      "source": [
        "**Question**\n",
        "\n",
        "What type of model and architecture do we want to use?\n",
        "\n",
        "Are we doing a single-phase classification or two-phase?\n",
        "\n",
        "What are the important metrics?"
      ],
      "metadata": {
        "id": "K2tCaQpXwtoF"
      }
    },
    {
      "cell_type": "code",
      "source": [
        "def build_model (shape, classes):\n",
        "    model = tf.keras.Sequential([\n",
        "        layers.Dense(8, activation='relu', input_shape=shape),\n",
        "        layers.Dense(8, activation='relu'),\n",
        "        layers.Dense(8, activation='relu'),\n",
        "        layers.Dense(1, activation='sigmoid'),\n",
        "        layers.Dense(11, activation = 'softmax'),\n",
        "    ])\n",
        "    return model\n",
        "\n",
        "CNN_model = build_model(shape = [1, 2, 128], classes = 11)\n",
        "CNN_model.summary()"
      ],
      "metadata": {
        "id": "JeN1TRBOgoyn"
      },
      "execution_count": null,
      "outputs": []
    },
    {
      "cell_type": "markdown",
      "source": [
        "###Parameter Tuning"
      ],
      "metadata": {
        "id": "UvNvJ_fyGU13"
      }
    },
    {
      "cell_type": "code",
      "source": [
        "# Learning rate"
      ],
      "metadata": {
        "id": "QVDAlOvkHxkV"
      },
      "execution_count": null,
      "outputs": []
    },
    {
      "cell_type": "markdown",
      "source": [
        "###Training"
      ],
      "metadata": {
        "id": "xGtrQjclGbCv"
      }
    },
    {
      "cell_type": "code",
      "source": [
        "def train_function (train_data, test_data, model):\n",
        "\n",
        "    return \"training Complete\""
      ],
      "metadata": {
        "id": "0Ipuhh9Exd2Y"
      },
      "execution_count": null,
      "outputs": []
    },
    {
      "cell_type": "markdown",
      "source": [
        "###Prediction"
      ],
      "metadata": {
        "id": "ldPZUUnbGw6F"
      }
    },
    {
      "cell_type": "code",
      "source": [
        "def prediction_function():\n",
        "\n",
        "    return \"Good job!\""
      ],
      "metadata": {
        "id": "ESRKXwa_0Uv-"
      },
      "execution_count": null,
      "outputs": []
    },
    {
      "cell_type": "markdown",
      "source": [
        "###Plot the Results"
      ],
      "metadata": {
        "id": "GYjLNv0DHEZd"
      }
    },
    {
      "cell_type": "code",
      "source": [
        "# Accuracy and Loss"
      ],
      "metadata": {
        "id": "Zx6IbkdEHnVJ"
      },
      "execution_count": null,
      "outputs": []
    },
    {
      "cell_type": "markdown",
      "source": [
        "###Data Exploration: Visualization"
      ],
      "metadata": {
        "id": "gaGM-Ct8Mg72"
      }
    },
    {
      "cell_type": "code",
      "source": [
        "def plot_constellation(dataset, mod, snr, num128pts=1, offset=0, scale=False):\n",
        "    modtype = dataset[(mod, snr)]\n",
        "    points_i = []\n",
        "    points_q = []\n",
        "    points = [points_i, points_q]\n",
        "    for i in range(num128pts):\n",
        "        for j in range(128):\n",
        "            points[0].append(modtype[i + offset][0][j])\n",
        "            points[1].append(modtype[i + offset][1][j])\n",
        "\n",
        "    marksz = max(0.01, 3/num128pts)\n",
        "    plt.plot(points[0], points[1], '.', markersize=marksz)\n",
        "    plt.title(str(mod)[1:] + str(snr))\n",
        "    plt.tight_layout()\n",
        "    if (scale):\n",
        "          plt.xlim(-0.02, 0.02)\n",
        "          plt.ylim(-0.02, 0.02)\n",
        "          plt.gca().set_aspect('equal', adjustable='box')\n",
        "    return points"
      ],
      "metadata": {
        "id": "D9ky4_2iIver"
      },
      "execution_count": null,
      "outputs": []
    },
    {
      "cell_type": "code",
      "source": [
        "_snr = -18\n",
        "print('all samples dumped together - 128k points')\n",
        "plt.figure(2)\n",
        "plt.subplot(1, 3, 1)\n",
        "plot_constellation(data, b'WBFM', _snr, num128pts=1000, scale=True, offset=0)\n",
        "plt.subplot(1, 3, 2)\n",
        "plot_constellation(data, b'AM-DSB', _snr, num128pts=1000, scale=True, offset=0)\n",
        "plt.subplot(1, 3, 3)\n",
        "plot_constellation(data, b'AM-SSB', _snr, num128pts=1000, scale=True, offset=0)\n",
        "plt.show()"
      ],
      "metadata": {
        "colab": {
          "base_uri": "https://localhost:8080/",
          "height": 229
        },
        "id": "fgKGEr1aMHoh",
        "outputId": "2675da6d-7bd3-436f-c185-b9bf717b739b"
      },
      "execution_count": null,
      "outputs": [
        {
          "output_type": "stream",
          "name": "stdout",
          "text": [
            "all samples dumped together - 128k points\n"
          ]
        },
        {
          "output_type": "display_data",
          "data": {
            "text/plain": [
              "<Figure size 640x480 with 3 Axes>"
            ],
            "image/png": "[encoded data removed]"
          },
          "metadata": {}
        }
      ]
    }
  ]
}